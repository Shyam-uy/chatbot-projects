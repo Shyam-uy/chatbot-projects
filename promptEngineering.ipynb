{
 "cells": [
  {
   "cell_type": "code",
   "execution_count": 1,
   "metadata": {},
   "outputs": [],
   "source": [
    "import os\n",
    "os.environ[\"OPENAI_API_KEY\"] = \"sk-******YXaAEyABSsabT3BlbkFJ5pbn5epZ64m06ub####\"\n"
   ]
  },
  {
   "cell_type": "code",
   "execution_count": 2,
   "metadata": {},
   "outputs": [
    {
     "data": {
      "text/plain": [
       "'I want you to act like a financial advisor for the people.\\nIn an easy way, explain the basics of income tax.'"
      ]
     },
     "execution_count": 2,
     "metadata": {},
     "output_type": "execute_result"
    }
   ],
   "source": [
    "from langchain import PromptTemplate\n",
    "\n",
    "template1 = '''I want you to act like a financial advisor for the people.\n",
    "In an easy way, explain the basics of {financial_concept}.'''\n",
    "\n",
    "prompt = PromptTemplate(\n",
    "    input_variables = ['financial_concept'],\n",
    "    template = template1\n",
    ")\n",
    "\n",
    "prompt.format(financial_concept = 'income tax')\n"
   ]
  },
  {
   "cell_type": "code",
   "execution_count": 3,
   "metadata": {},
   "outputs": [],
   "source": [
    "from langchain.llms import OpenAI\n",
    "from langchain.chains import LLMChain\n",
    "\n",
    "llm = OpenAI(temperature=0.7)\n",
    "chain1 = LLMChain(llm= llm, prompt= prompt)"
   ]
  },
  {
   "cell_type": "code",
   "execution_count": 4,
   "metadata": {},
   "outputs": [
    {
     "data": {
      "text/plain": [
       "\"\\n\\nAs a financial advisor, it is my job to help people understand their finances and make smart decisions when it comes to taxes. One important aspect of taxes is income tax, which is a tax on the money you earn from your job or other sources.\\n\\nThe first thing to know about income tax is that it is calculated based on your income. This means that the more money you earn, the more taxes you will have to pay. The amount you owe in income tax is determined by a percentage of your income, called a tax rate.\\n\\nIn the United States, there are different tax rates for different income levels. This is known as a progressive tax system, which means that the more you earn, the higher your tax rate will be. For example, if you earn $50,000 a year, you may have a tax rate of 15%, while someone who earns $100,000 a year may have a tax rate of 25%.\\n\\nIt's important to understand that your employer will typically deduct income tax from your paycheck before you even receive it. This is known as withholding. The amount withheld is based on your income and the information you provide on your W-4 form. This form tells your employer how much tax to withhold based on your filing status (single,\""
      ]
     },
     "execution_count": 4,
     "metadata": {},
     "output_type": "execute_result"
    }
   ],
   "source": [
    "chain1.run('income tax')"
   ]
  },
  {
   "cell_type": "code",
   "execution_count": 5,
   "metadata": {},
   "outputs": [
    {
     "data": {
      "text/plain": [
       "\"\\n\\nAs a financial advisor, my job is to help people make smart and informed decisions when it comes to their money. One important aspect of investing is equity investing, which involves buying and owning a portion of a company's stock.\\n\\nWhen you invest in equity, you become a partial owner of the company and have the potential to earn a share of its profits. This is different from fixed-income investments like bonds, where you are lending money to a company or government and earning interest in return.\\n\\nThe value of your equity investment will fluctuate based on the performance of the company and the overall stock market. If the company does well and its stock price rises, your investment will also increase in value. On the other hand, if the company performs poorly, your investment may decrease in value.\\n\\nOne key aspect of equity investing is diversification, which means spreading your money across different companies and industries. This helps reduce the risk of losing all your money if one company or industry underperforms.\\n\\nWhen considering equity investing, it's important to do your research and choose companies with strong financials and a promising future. You can also seek the help of a financial advisor to guide you in selecting the right investments for your goals and risk tolerance.\\n\\nIt's also important to understand that equity investing is\""
      ]
     },
     "execution_count": 5,
     "metadata": {},
     "output_type": "execute_result"
    }
   ],
   "source": [
    "chain1.run('Equity investing')"
   ]
  },
  {
   "cell_type": "code",
   "execution_count": 7,
   "metadata": {},
   "outputs": [
    {
     "data": {
      "text/plain": [
       "\"In an easy way, translate the following sentence 'That is good!' into German\""
      ]
     },
     "execution_count": 7,
     "metadata": {},
     "output_type": "execute_result"
    }
   ],
   "source": [
    "## Language Translation\n",
    "\n",
    "template2 = '''In an easy way, translate the following sentence '{sentence}' into {target_language}'''\n",
    "language_prompt = PromptTemplate(\n",
    "    input_variables = ['sentence', 'target_language'],\n",
    "    template = template2\n",
    ")\n",
    "language_prompt.format(sentence='That is good!', target_language='German')\n"
   ]
  },
  {
   "cell_type": "code",
   "execution_count": 10,
   "metadata": {},
   "outputs": [
    {
     "data": {
      "text/plain": [
       "{'sentence': 'Hello How are you',\n",
       " 'target_language': 'German',\n",
       " 'text': '\\n\\nHallo, wie geht es dir?'}"
      ]
     },
     "execution_count": 10,
     "metadata": {},
     "output_type": "execute_result"
    }
   ],
   "source": [
    "chain2 = LLMChain(llm = llm, prompt=language_prompt)\n",
    "chain2({'sentence': \"Hello How are you\", 'target_language':'German'})"
   ]
  },
  {
   "cell_type": "code",
   "execution_count": 11,
   "metadata": {},
   "outputs": [],
   "source": [
    "from langchain import PromptTemplate, FewShotPromptTemplate\n",
    "\n",
    "# We will first create a few examples (Few Shot prompt examples)\n",
    "examples = [\n",
    "    {'word':'happy', 'antonym':'sad'},\n",
    "    {'word':'hot', 'antonym':'cold'}\n",
    "]\n",
    "\n",
    "# Next, we specify the template to format the examples we have provided.\n",
    "# We use the 'PromptTemplate' class for this\n",
    "examples_formatter_template = \"\"\"Word: {word}\n",
    "Antonym:{antonym}\n",
    "\"\"\"\n",
    "\n",
    "\n",
    "example_prompt = PromptTemplate(\n",
    "    input_variables = ['word', 'antonym'],\n",
    "    template = examples_formatter_template\n",
    ")"
   ]
  },
  {
   "cell_type": "code",
   "execution_count": 13,
   "metadata": {},
   "outputs": [],
   "source": [
    "# Finally we will create the FewShotPromptTemplate object\n",
    "few_shot_prompt = FewShotPromptTemplate(\n",
    "    # These are the examples we want to insert into the prompt\n",
    "    examples = examples,\n",
    "\n",
    "    # This is how we want to format the examples when insert them into the prompt\n",
    "    example_prompt = example_prompt,\n",
    "\n",
    "    # The prefix is some text that goes before the examples in the prompt\n",
    "    # Usually, this consists of instructions\n",
    "    prefix = \"Give the antonym of every input\\n\",\n",
    "\n",
    "    # The suffix is some text that goes after the examples in the prompt\n",
    "    # Usually, this is where the user input will go\n",
    "    suffix = \"Word: {input}\\nAntonym: \",\n",
    "\n",
    "    # The input variables are the variables that overall prompt expects\n",
    "    input_variables = ['input'],\n",
    "\n",
    "    # The example separator is the string we will use to join the prefix, suffix, and examples together\n",
    "    example_separator = \"\\n\",\n",
    "\n",
    ")"
   ]
  },
  {
   "cell_type": "code",
   "execution_count": 15,
   "metadata": {},
   "outputs": [
    {
     "name": "stdout",
     "output_type": "stream",
     "text": [
      "Give the antonym of every input\n",
      "\n",
      "Word: happy\n",
      "Antonym:sad\n",
      "\n",
      "Word: hot\n",
      "Antonym:cold\n",
      "\n",
      "Word: big\n",
      "Antonym: \n"
     ]
    }
   ],
   "source": [
    "print(few_shot_prompt.format(input='big'))"
   ]
  },
  {
   "cell_type": "code",
   "execution_count": 16,
   "metadata": {},
   "outputs": [
    {
     "data": {
      "text/plain": [
       "{'input': 'big', 'text': 'small'}"
      ]
     },
     "execution_count": 16,
     "metadata": {},
     "output_type": "execute_result"
    }
   ],
   "source": [
    "chainFewShot = LLMChain(llm = llm, prompt=few_shot_prompt)\n",
    "chainFewShot({'input': \"big\"})"
   ]
  },
  {
   "cell_type": "code",
   "execution_count": 17,
   "metadata": {},
   "outputs": [
    {
     "data": {
      "text/plain": [
       "' big'"
      ]
     },
     "execution_count": 17,
     "metadata": {},
     "output_type": "execute_result"
    }
   ],
   "source": [
    "# Or we can also use\n",
    "chainFewShot.run('little')"
   ]
  },
  {
   "cell_type": "code",
   "execution_count": null,
   "metadata": {},
   "outputs": [],
   "source": [
    "    "
   ]
  }
 ],
 "metadata": {
  "kernelspec": {
   "display_name": "pyenv",
   "language": "python",
   "name": "python3"
  },
  "language_info": {
   "codemirror_mode": {
    "name": "ipython",
    "version": 3
   },
   "file_extension": ".py",
   "mimetype": "text/x-python",
   "name": "python",
   "nbconvert_exporter": "python",
   "pygments_lexer": "ipython3",
   "version": "3.9.7"
  }
 },
 "nbformat": 4,
 "nbformat_minor": 2
}
